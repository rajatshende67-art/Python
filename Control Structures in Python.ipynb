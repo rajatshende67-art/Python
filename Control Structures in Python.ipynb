{
 "cells": [
  {
   "cell_type": "code",
   "execution_count": null,
   "id": "f36f5de0-99cd-4115-a726-f9c92cd2efca",
   "metadata": {},
   "outputs": [],
   "source": [
    "a = int(input(\"Enter the number : \"))\n",
    "if a % 2 == 0 :\n",
    "    print( a, \"is Even Number\")\n",
    "else :\n",
    "    print( a, \"is Odd Number\")"
   ]
  },
  {
   "cell_type": "code",
   "execution_count": null,
   "id": "f68fa1e9-4c04-4348-ae9f-3f0019a3ca13",
   "metadata": {},
   "outputs": [],
   "source": [
    "total =0\n",
    "for i in range (1,51):\n",
    "    total +=i \n",
    "print(total)"
   ]
  },
  {
   "cell_type": "code",
   "execution_count": null,
   "id": "6f2f4b53-5b3f-44a1-b93b-6840579cac72",
   "metadata": {},
   "outputs": [],
   "source": []
  },
  {
   "cell_type": "code",
   "execution_count": null,
   "id": "15436cd1-d503-42f6-b7a6-ad07bd2b20af",
   "metadata": {},
   "outputs": [],
   "source": [
    "\n"
   ]
  },
  {
   "cell_type": "code",
   "execution_count": null,
   "id": "14ecf0d6-143d-4851-be6b-1a6b674c90e9",
   "metadata": {},
   "outputs": [],
   "source": []
  }
 ],
 "metadata": {
  "kernelspec": {
   "display_name": "Python [conda env:base] *",
   "language": "python",
   "name": "conda-base-py"
  },
  "language_info": {
   "codemirror_mode": {
    "name": "ipython",
    "version": 3
   },
   "file_extension": ".py",
   "mimetype": "text/x-python",
   "name": "python",
   "nbconvert_exporter": "python",
   "pygments_lexer": "ipython3",
   "version": "3.13.5"
  }
 },
 "nbformat": 4,
 "nbformat_minor": 5
}
